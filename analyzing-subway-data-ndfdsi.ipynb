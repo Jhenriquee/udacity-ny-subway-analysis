{
 "cells": [
  {
   "cell_type": "markdown",
   "metadata": {},
   "source": [
    "# Subway Data Analysis\n",
    "\n",
    "## Introduction\n",
    "\n",
    "O sistema de ônibus e trens de Nova Iorque - o Metro Transit Authority - fornece seus dados para download através de  arquivos csv. Uma das informações disponíveis são os dados das catracas do metrô que contém logs semanais de entradas cumulativas e saídas por catraca por estação de metrô em algum intervalo de tempo.\n",
    "\n",
    "\n",
    "Neste projeto iremos utilizar apenas os das catraca disponíveis em: http://web.mta.info/developers/turnstile.html.\n",
    "\n",
    "\n"
   ]
  },
  {
   "cell_type": "markdown",
   "metadata": {},
   "source": [
    "# Sobre este projeto\n",
    "\n",
    "Neste projeto você irá aplicar todos os conhecimentos adquiridos neste primeiro mês de curso. Iremos praticar tarefas básicas de aquisição, limpeza de dados e nesse processo iremos descobrir coisas essenciais sobre os dados utilizando o que foi aprendido no curso de estatística. \n",
    "\n",
    "O objetivo deste projeto é explorar a relação entre os dados das catracas do metro de Nova Iorque e o clima no dia da coleta. Para isso, além dos dados do metrô, precisaremos os dados de clima da cidade de Nova Iorque. \n",
    "\n",
    "Os principais pontos que serão verificados neste trabalho:\n",
    "\n",
    "- Coleta de dados da internet\n",
    "- Utilização de estatística para análise de dados\n",
    "- Manipulação de dados e criação de gráficos simples com o `Pandas`\n",
    "\n",
    "*Como conseguir ajuda*: Sugerimos que tente os seguintes canais, nas seguintes ordens:\n",
    "\n",
    "| Tipo de dúvida\\Canais         \t| Google \t| Fórum \t| Slack \t| Email \t|\n",
    "|-------------------------------\t|--------\t|-------\t|-------\t|-------\t|\n",
    "| Programação Pyhon e Pandas    \t| 1      \t| 2     \t| 3     \t|       \t|\n",
    "| Requisitos do projeto         \t|        \t| 1     \t| 2     \t| 3     \t|\n",
    "| Partes específicas do Projeto \t|        \t| 1     \t| 2     \t| 3     \t|\n",
    "\n",
    "Os endereços dos canais são:\n",
    "\n",
    "- Fórum: https://discussions.udacity.com/c/ndfdsi-project\n",
    "- Slack: [udacity-br.slack.com](https://udacity-br.slack.com/messages/C5MT6E3E1)\n",
    "- Email: data-suporte@udacity.com\n",
    "\n",
    "**Espera-se que o estudante entregue este relatório com:**\n",
    "\n",
    "- Todos os TODO feitos, pois eles são essenciais para que o código rode corretamente\n",
    "- O arquivo ipynb exportado como html\n",
    "\n",
    "Para entregar este projeto, vá a [sala de aula](https://coco.udacity.com/nanodegrees/nd111/locale/pt-br/versions/1.0.0/parts/339726/modules/339733/lessons/340886/project) e submeta o seu `.ipynb` e o html, zipados."
   ]
  },
  {
   "cell_type": "markdown",
   "metadata": {},
   "source": [
    "# Lembretes\n",
    "\n",
    "Antes de começarmos, alguns lembretes devem ter em mente ao usar os notebooks iPython:\n",
    "\n",
    "- Lembre-se de que você pode ver do lado esquerdo de uma célula de código quando foi executado pela última vez se houver um número dentro das chaves.\n",
    "- Quando você inicia uma nova sessão do notebook, certifique-se de executar todas as células até o ponto em que você deixou a última vez. Mesmo que a saída ainda seja visível a partir de quando você executou as células em sua sessão anterior, o kernel começa em um estado novo, então você precisará recarregar os dados, etc. em uma nova sessão.\n",
    "- O ponto anterior é útil para ter em mente se suas respostas não correspondem ao que é esperado nos questionários da aula. Tente recarregar os dados e execute todas as etapas de processamento um a um para garantir que você esteja trabalhando com as mesmas variáveis e dados que estão em cada fase do questionário."
   ]
  },
  {
   "cell_type": "markdown",
   "metadata": {},
   "source": [
    "## Seção 1 - Coleta de Dados\n",
    "\n",
    "### *Exercicio 1.1*\n",
    "\n",
    "Mãos a obra!! Agora é sua vez de coletar os dados. Escreva abaixo um código python que acesse o link http://web.mta.info/developers/turnstile.html e baixe os arquivos do mês de junho de 2017. O arquivo deverá ser salvo com o nome turnstile_100617.txt onde 10/06/17 é a data do arquivo.\n",
    "\n",
    "Abaixo seguem alguns comandos que poderão te ajudar:\n",
    "\n",
    "Utilize a biblioteca **urllib** para abrir e resgatar uma página da web. Utilize o comando abaixo onde **url** será o caminho da página da web onde se encontra o arquivo:\n",
    "\n",
    "```python\n",
    "u = urllib.urlopen(url)\n",
    "html = u.read()\n",
    "```\n",
    "\n",
    "Utilize a biblioteca **BeautifulSoup** para procurar na página pelo link do arquivo que deseja baixar. Utilize o comando abaixo para criar o seu objeto *soup* e procurar por todas as tags 'a'no documento:\n",
    " \n",
    " \n",
    "```python\n",
    "soup = BeautifulSoup(html, \"html.parser\")\n",
    "links = soup.find_all('a')\n",
    "```\n",
    "\n",
    "Uma dica para baixar apenas os arquivos do mês de junho é verificar a data no nome do arquivo. Por exemplo, para baixar o arquivo do dia 17/06/2017 verifique se o link termina com *\"turnstile_170610.txt\"*. Se não fizer isso você baixará todos os arquivos da página. Para fazer isso utilize o comando conforme abaixo:\n",
    "\n",
    "```python\n",
    "if '1706' in link.get('href'):\n",
    "```\n",
    "\n",
    "E a dica final é utilizar o comando abaixo para fazer o download do arquivo txt:\n",
    "\n",
    "```python\n",
    "urllib.urlretrieve(link_do_arquivo, filename)\n",
    "```\n",
    "\n",
    "Lembre-se, primeiro, carregue todos os pacotes e funções que você estará usando em sua análise."
   ]
  },
  {
   "cell_type": "code",
   "execution_count": 8,
   "metadata": {
    "collapsed": true
   },
   "outputs": [],
   "source": [
    "import urllib\n",
    "from bs4 import BeautifulSoup\n",
    "import glob\n",
    "\n",
    "URL = \"http://web.mta.info/developers/\""
   ]
  },
  {
   "cell_type": "code",
   "execution_count": 2,
   "metadata": {},
   "outputs": [
    {
     "name": "stdout",
     "output_type": "stream",
     "text": [
      "http://web.mta.info/developers/data/nyct/turnstile/turnstile_170624.txt\n",
      "http://web.mta.info/developers/data/nyct/turnstile/turnstile_170617.txt\n",
      "http://web.mta.info/developers/data/nyct/turnstile/turnstile_170610.txt\n",
      "http://web.mta.info/developers/data/nyct/turnstile/turnstile_170603.txt\n"
     ]
    }
   ],
   "source": [
    "u = urllib.request.urlopen(URL+'turnstile.html')\n",
    "html = u.read()\n",
    "\n",
    "soup = BeautifulSoup(html, \"html.parser\")\n",
    "links = soup.find_all('a')\n",
    "filenames = []\n",
    "\n",
    "for link in links:\n",
    "    if '1706' in str(link.get('href')):\n",
    "        aux = link.get('href')\n",
    "        print(URL+aux)\n",
    "        filenames.append('turnstle_'+ aux[34:36] +'0617.txt')\n",
    "        urllib.request.urlretrieve(URL+aux, 'turnstle_'+ aux[34:36] +'0617.txt')"
   ]
  },
  {
   "cell_type": "markdown",
   "metadata": {},
   "source": [
    "### *Exercicio 1.2*\n",
    "\n",
    "Escreva uma função que pegue a lista de nomes dos arquivos que você baixou no exercicio 1.1 e consolide-os em um único arquivo. Deve existir apenas uma linha de cabeçalho no arquivo de saida. \n",
    "\n",
    "Por exemplo, se o arquivo_1 tiver:\n",
    "linha 1...\n",
    "linha 2...\n",
    "\n",
    "e o outro arquivo, arquivo_2 tiver:\n",
    "linha 3...\n",
    "linha 4...\n",
    "linha 5...\n",
    "\n",
    "Devemos combinar o arquivo_1 com arquivo_2 em um arquivo mestre conforme abaixo:\n",
    "\n",
    "'C/A, UNIT, SCP, DATEn, TIMEn, DESCn, ENTRIESn, EXITSn'\n",
    "linha 1...\n",
    "linha 2...\n",
    "linha 3...\n",
    "linha 4...\n",
    "linha 5...\n"
   ]
  },
  {
   "cell_type": "code",
   "execution_count": 17,
   "metadata": {
    "collapsed": true
   },
   "outputs": [],
   "source": [
    "def create_master_turnstile_file(filenames, output_file):\n",
    "    with open(\"output-file.txt\", 'w') as outfile:\n",
    "        outfile.write('C/A,UNIT,SCP,STATION, LINENAME, DIVISION, DATEn,TIMEn,DESCn,ENTRIESn,EXITSn\\n')\n",
    "        for fname in filenames:\n",
    "            with open(fname) as infile:\n",
    "                infile.readline()\n",
    "                for line in infile:\n",
    "                    outfile.write(line)"
   ]
  },
  {
   "cell_type": "code",
   "execution_count": 18,
   "metadata": {
    "collapsed": true
   },
   "outputs": [],
   "source": [
    "filenames = glob.glob(\"*.txt\")\n",
    "create_master_turnstile_file(filenames, 'master-file.txt')"
   ]
  },
  {
   "cell_type": "markdown",
   "metadata": {},
   "source": [
    "### *Exercicio 1.3*\n",
    "\n",
    "Neste exercício, escreva um função que leia o master_file criado no exercicio anterior e carregue-o em um pandas dataframe. Esta função deve filtrar para que o dataframe possua apenas linhas onde a coluna \"DESCn\" possua o valor \"Regular\".\n",
    "\n",
    "Por exemplo, se o data frame do pandas estiver conforme abaixo:\n",
    "    \n",
    "    ,C/A,UNIT,SCP,DATEn,TIMEn,DESCn,ENTRIESn,EXITSn\n",
    "    0,A002,R051,02-00-00,05-01-11,00:00:00,REGULAR,3144312,1088151\n",
    "    1,A002,R051,02-00-00,05-01-11,04:00:00,DOOR,3144335,1088159\n",
    "    2,A002,R051,02-00-00,05-01-11,08:00:00,REGULAR,3144353,1088177\n",
    "    3,A002,R051,02-00-00,05-01-11,12:00:00,DOOR,3144424,1088231\n",
    "\n",
    "O dataframe deverá ficar conforme abaixo depois de filtrar apenas as linhas onde a coluna DESCn possua o valor REGULAR:\n",
    "\n",
    "    0,A002,R051,02-00-00,05-01-11,00:00:00,REGULAR,3144312,1088151\n",
    "    2,A002,R051,02-00-00,05-01-11,08:00:00,REGULAR,3144353,1088177\n"
   ]
  },
  {
   "cell_type": "code",
   "execution_count": 106,
   "metadata": {
    "collapsed": true
   },
   "outputs": [],
   "source": [
    "import pandas as pd\n",
    "\n",
    "def filter_by_regular(filename):\n",
    "    turnstile_data = pd.read_csv(filename)\n",
    "    turnstile_data.loc[turnstile_data[\"DESCn\"] == \"REGULAR\"]\n",
    "    return turnstile_data\n",
    "\n",
    "def get_dataframe():\n",
    "    return filter_by_regular('output-file.txt')"
   ]
  },
  {
   "cell_type": "code",
   "execution_count": 107,
   "metadata": {
    "collapsed": true
   },
   "outputs": [],
   "source": [
    "df = get_dataframe()\n",
    "#print(df)"
   ]
  },
  {
   "cell_type": "code",
   "execution_count": 108,
   "metadata": {},
   "outputs": [
    {
     "data": {
      "text/html": [
       "<div>\n",
       "<style>\n",
       "    .dataframe thead tr:only-child th {\n",
       "        text-align: right;\n",
       "    }\n",
       "\n",
       "    .dataframe thead th {\n",
       "        text-align: left;\n",
       "    }\n",
       "\n",
       "    .dataframe tbody tr th {\n",
       "        vertical-align: top;\n",
       "    }\n",
       "</style>\n",
       "<table border=\"1\" class=\"dataframe\">\n",
       "  <thead>\n",
       "    <tr style=\"text-align: right;\">\n",
       "      <th></th>\n",
       "      <th>ENTRIESn</th>\n",
       "      <th>EXITSn</th>\n",
       "    </tr>\n",
       "  </thead>\n",
       "  <tbody>\n",
       "    <tr>\n",
       "      <th>count</th>\n",
       "      <td>7.882140e+05</td>\n",
       "      <td>7.882140e+05</td>\n",
       "    </tr>\n",
       "    <tr>\n",
       "      <th>mean</th>\n",
       "      <td>3.833104e+07</td>\n",
       "      <td>3.084348e+07</td>\n",
       "    </tr>\n",
       "    <tr>\n",
       "      <th>std</th>\n",
       "      <td>2.049990e+08</td>\n",
       "      <td>1.845668e+08</td>\n",
       "    </tr>\n",
       "    <tr>\n",
       "      <th>min</th>\n",
       "      <td>0.000000e+00</td>\n",
       "      <td>0.000000e+00</td>\n",
       "    </tr>\n",
       "    <tr>\n",
       "      <th>25%</th>\n",
       "      <td>4.961748e+05</td>\n",
       "      <td>2.446415e+05</td>\n",
       "    </tr>\n",
       "    <tr>\n",
       "      <th>50%</th>\n",
       "      <td>2.636640e+06</td>\n",
       "      <td>1.485954e+06</td>\n",
       "    </tr>\n",
       "    <tr>\n",
       "      <th>75%</th>\n",
       "      <td>6.782455e+06</td>\n",
       "      <td>4.770244e+06</td>\n",
       "    </tr>\n",
       "    <tr>\n",
       "      <th>max</th>\n",
       "      <td>2.130465e+09</td>\n",
       "      <td>2.087387e+09</td>\n",
       "    </tr>\n",
       "  </tbody>\n",
       "</table>\n",
       "</div>"
      ],
      "text/plain": [
       "           ENTRIESn        EXITSn\n",
       "count  7.882140e+05  7.882140e+05\n",
       "mean   3.833104e+07  3.084348e+07\n",
       "std    2.049990e+08  1.845668e+08\n",
       "min    0.000000e+00  0.000000e+00\n",
       "25%    4.961748e+05  2.446415e+05\n",
       "50%    2.636640e+06  1.485954e+06\n",
       "75%    6.782455e+06  4.770244e+06\n",
       "max    2.130465e+09  2.087387e+09"
      ]
     },
     "execution_count": 108,
     "metadata": {},
     "output_type": "execute_result"
    }
   ],
   "source": [
    "df.describe()"
   ]
  },
  {
   "cell_type": "markdown",
   "metadata": {},
   "source": [
    "### *Exercicio 1.4*\n",
    "\n",
    "\n",
    "Os dados do metrô de NY possui dados cumulativos de entradas e saidas por linha. Assuma que você possui um dataframe chamado df que contém apenas linhas para uma catraca em particular (unico SCP, C/A, e UNIT). A função abaixo deve alterar essas entradas cumulativas para a contagem de entradas desde a última leitura (entradas desde a última linha do dataframe).\n",
    "\n",
    "Mais especificamente, você deverá fazer duas coisas:\n",
    "\n",
    "1 - Criar uma nova coluna chamada ENTRIESn_hourly\n",
    "2 - Inserir nessa coluna a diferença enre ENTRIESn da coluna atual e a da coluna anterior. Se a linha possuir alguma NAN, preencha/substitua por 1.\n",
    "\n",
    "Dica: as funções do pandas shift() e fillna() pode ser úteis nesse exercicio.\n",
    "\n",
    "Abaixo tem um exemplo de como seu dataframe deve ficar ao final desse exercicio:\n",
    "\n",
    "        C/A  UNIT       SCP     DATEn     TIMEn    DESCn  ENTRIESn    EXITSn  ENTRIESn_hourly\n",
    "    0     A002  R051  02-00-00  05-01-11  00:00:00  REGULAR   3144312   1088151                1\n",
    "    1     A002  R051  02-00-00  05-01-11  04:00:00  REGULAR   3144335   1088159               23\n",
    "    2     A002  R051  02-00-00  05-01-11  08:00:00  REGULAR   3144353   1088177               18\n",
    "    3     A002  R051  02-00-00  05-01-11  12:00:00  REGULAR   3144424   1088231               71\n",
    "    4     A002  R051  02-00-00  05-01-11  16:00:00  REGULAR   3144594   1088275              170\n",
    "    5     A002  R051  02-00-00  05-01-11  20:00:00  REGULAR   3144808   1088317              214\n",
    "    6     A002  R051  02-00-00  05-02-11  00:00:00  REGULAR   3144895   1088328               87\n",
    "    7     A002  R051  02-00-00  05-02-11  04:00:00  REGULAR   3144905   1088331               10\n",
    "    8     A002  R051  02-00-00  05-02-11  08:00:00  REGULAR   3144941   1088420               36\n",
    "    9     A002  R051  02-00-00  05-02-11  12:00:00  REGULAR   3145094   1088753              153\n",
    "    10    A002  R051  02-00-00  05-02-11  16:00:00  REGULAR   3145337   1088823              243"
   ]
  },
  {
   "cell_type": "code",
   "execution_count": 109,
   "metadata": {
    "collapsed": true
   },
   "outputs": [],
   "source": [
    "import pandas as pd\n",
    "\n",
    "def get_hourly_entries(df):\n",
    "    df['ENTRIESn_hourly'] = df.groupby(['SCP', 'C/A', 'UNIT'])['ENTRIESn'].transform(pd.Series.diff).fillna(1)\n",
    "    return df"
   ]
  },
  {
   "cell_type": "code",
   "execution_count": 110,
   "metadata": {},
   "outputs": [
    {
     "name": "stdout",
     "output_type": "stream",
     "text": [
      "          C/A  UNIT       SCP        STATION  LINENAME  DIVISION       DATEn  \\\n",
      "0        A002  R051  02-00-00          59 ST   NQR456W       BMT  05/27/2017   \n",
      "1        A002  R051  02-00-00          59 ST   NQR456W       BMT  05/27/2017   \n",
      "2        A002  R051  02-00-00          59 ST   NQR456W       BMT  05/27/2017   \n",
      "3        A002  R051  02-00-00          59 ST   NQR456W       BMT  05/27/2017   \n",
      "4        A002  R051  02-00-00          59 ST   NQR456W       BMT  05/27/2017   \n",
      "5        A002  R051  02-00-00          59 ST   NQR456W       BMT  05/27/2017   \n",
      "6        A002  R051  02-00-00          59 ST   NQR456W       BMT  05/28/2017   \n",
      "7        A002  R051  02-00-00          59 ST   NQR456W       BMT  05/28/2017   \n",
      "8        A002  R051  02-00-00          59 ST   NQR456W       BMT  05/28/2017   \n",
      "9        A002  R051  02-00-00          59 ST   NQR456W       BMT  05/28/2017   \n",
      "10       A002  R051  02-00-00          59 ST   NQR456W       BMT  05/28/2017   \n",
      "11       A002  R051  02-00-00          59 ST   NQR456W       BMT  05/28/2017   \n",
      "12       A002  R051  02-00-00          59 ST   NQR456W       BMT  05/29/2017   \n",
      "13       A002  R051  02-00-00          59 ST   NQR456W       BMT  05/29/2017   \n",
      "14       A002  R051  02-00-00          59 ST   NQR456W       BMT  05/29/2017   \n",
      "15       A002  R051  02-00-00          59 ST   NQR456W       BMT  05/29/2017   \n",
      "16       A002  R051  02-00-00          59 ST   NQR456W       BMT  05/29/2017   \n",
      "17       A002  R051  02-00-00          59 ST   NQR456W       BMT  05/29/2017   \n",
      "18       A002  R051  02-00-00          59 ST   NQR456W       BMT  05/30/2017   \n",
      "19       A002  R051  02-00-00          59 ST   NQR456W       BMT  05/30/2017   \n",
      "20       A002  R051  02-00-00          59 ST   NQR456W       BMT  05/30/2017   \n",
      "21       A002  R051  02-00-00          59 ST   NQR456W       BMT  05/30/2017   \n",
      "22       A002  R051  02-00-00          59 ST   NQR456W       BMT  05/30/2017   \n",
      "23       A002  R051  02-00-00          59 ST   NQR456W       BMT  05/30/2017   \n",
      "24       A002  R051  02-00-00          59 ST   NQR456W       BMT  05/31/2017   \n",
      "25       A002  R051  02-00-00          59 ST   NQR456W       BMT  05/31/2017   \n",
      "26       A002  R051  02-00-00          59 ST   NQR456W       BMT  05/31/2017   \n",
      "27       A002  R051  02-00-00          59 ST   NQR456W       BMT  05/31/2017   \n",
      "28       A002  R051  02-00-00          59 ST   NQR456W       BMT  05/31/2017   \n",
      "29       A002  R051  02-00-00          59 ST   NQR456W       BMT  05/31/2017   \n",
      "...       ...   ...       ...            ...       ...       ...         ...   \n",
      "788184  TRAM2  R469  00-05-01  RIT-ROOSEVELT         R       RIT  06/19/2017   \n",
      "788185  TRAM2  R469  00-05-01  RIT-ROOSEVELT         R       RIT  06/19/2017   \n",
      "788186  TRAM2  R469  00-05-01  RIT-ROOSEVELT         R       RIT  06/19/2017   \n",
      "788187  TRAM2  R469  00-05-01  RIT-ROOSEVELT         R       RIT  06/19/2017   \n",
      "788188  TRAM2  R469  00-05-01  RIT-ROOSEVELT         R       RIT  06/19/2017   \n",
      "788189  TRAM2  R469  00-05-01  RIT-ROOSEVELT         R       RIT  06/19/2017   \n",
      "788190  TRAM2  R469  00-05-01  RIT-ROOSEVELT         R       RIT  06/20/2017   \n",
      "788191  TRAM2  R469  00-05-01  RIT-ROOSEVELT         R       RIT  06/20/2017   \n",
      "788192  TRAM2  R469  00-05-01  RIT-ROOSEVELT         R       RIT  06/20/2017   \n",
      "788193  TRAM2  R469  00-05-01  RIT-ROOSEVELT         R       RIT  06/20/2017   \n",
      "788194  TRAM2  R469  00-05-01  RIT-ROOSEVELT         R       RIT  06/20/2017   \n",
      "788195  TRAM2  R469  00-05-01  RIT-ROOSEVELT         R       RIT  06/20/2017   \n",
      "788196  TRAM2  R469  00-05-01  RIT-ROOSEVELT         R       RIT  06/21/2017   \n",
      "788197  TRAM2  R469  00-05-01  RIT-ROOSEVELT         R       RIT  06/21/2017   \n",
      "788198  TRAM2  R469  00-05-01  RIT-ROOSEVELT         R       RIT  06/21/2017   \n",
      "788199  TRAM2  R469  00-05-01  RIT-ROOSEVELT         R       RIT  06/21/2017   \n",
      "788200  TRAM2  R469  00-05-01  RIT-ROOSEVELT         R       RIT  06/21/2017   \n",
      "788201  TRAM2  R469  00-05-01  RIT-ROOSEVELT         R       RIT  06/21/2017   \n",
      "788202  TRAM2  R469  00-05-01  RIT-ROOSEVELT         R       RIT  06/22/2017   \n",
      "788203  TRAM2  R469  00-05-01  RIT-ROOSEVELT         R       RIT  06/22/2017   \n",
      "788204  TRAM2  R469  00-05-01  RIT-ROOSEVELT         R       RIT  06/22/2017   \n",
      "788205  TRAM2  R469  00-05-01  RIT-ROOSEVELT         R       RIT  06/22/2017   \n",
      "788206  TRAM2  R469  00-05-01  RIT-ROOSEVELT         R       RIT  06/22/2017   \n",
      "788207  TRAM2  R469  00-05-01  RIT-ROOSEVELT         R       RIT  06/22/2017   \n",
      "788208  TRAM2  R469  00-05-01  RIT-ROOSEVELT         R       RIT  06/23/2017   \n",
      "788209  TRAM2  R469  00-05-01  RIT-ROOSEVELT         R       RIT  06/23/2017   \n",
      "788210  TRAM2  R469  00-05-01  RIT-ROOSEVELT         R       RIT  06/23/2017   \n",
      "788211  TRAM2  R469  00-05-01  RIT-ROOSEVELT         R       RIT  06/23/2017   \n",
      "788212  TRAM2  R469  00-05-01  RIT-ROOSEVELT         R       RIT  06/23/2017   \n",
      "788213  TRAM2  R469  00-05-01  RIT-ROOSEVELT         R       RIT  06/23/2017   \n",
      "\n",
      "           TIMEn    DESCn  ENTRIESn   EXITSn  ENTRIESn_hourly  \n",
      "0       00:00:00  REGULAR   6195217  2098317              1.0  \n",
      "1       04:00:00  REGULAR   6195240  2098318             23.0  \n",
      "2       08:00:00  REGULAR   6195256  2098347             16.0  \n",
      "3       12:00:00  REGULAR   6195346  2098432             90.0  \n",
      "4       16:00:00  REGULAR   6195518  2098491            172.0  \n",
      "5       20:00:00  REGULAR   6195765  2098537            247.0  \n",
      "6       00:00:00  REGULAR   6195898  2098559            133.0  \n",
      "7       04:00:00  REGULAR   6195914  2098562             16.0  \n",
      "8       08:00:00  REGULAR   6195930  2098581             16.0  \n",
      "9       12:00:00  REGULAR   6196024  2098646             94.0  \n",
      "10      16:00:00  REGULAR   6196186  2098685            162.0  \n",
      "11      20:00:00  REGULAR   6196446  2098723            260.0  \n",
      "12      00:00:00  REGULAR   6196569  2098745            123.0  \n",
      "13      04:00:00  REGULAR   6196587  2098747             18.0  \n",
      "14      08:00:00  REGULAR   6196597  2098766             10.0  \n",
      "15      12:00:00  REGULAR   6196666  2098845             69.0  \n",
      "16      16:00:00  REGULAR   6196853  2098891            187.0  \n",
      "17      20:00:00  REGULAR   6197107  2098922            254.0  \n",
      "18      00:00:00  REGULAR   6197230  2098946            123.0  \n",
      "19      04:00:00  REGULAR   6197238  2098949              8.0  \n",
      "20      08:00:00  REGULAR   6197288  2099066             50.0  \n",
      "21      12:00:00  REGULAR   6197470  2099345            182.0  \n",
      "22      16:00:00  REGULAR   6197790  2099442            320.0  \n",
      "23      20:00:00  REGULAR   6198624  2099521            834.0  \n",
      "24      00:00:00  REGULAR   6198819  2099552            195.0  \n",
      "25      04:00:00  REGULAR   6198834  2099555             15.0  \n",
      "26      08:00:00  REGULAR   6198880  2099671             46.0  \n",
      "27      12:00:00  REGULAR   6199053  2099950            173.0  \n",
      "28      16:00:00  REGULAR   6199379  2100021            326.0  \n",
      "29      20:00:00  REGULAR   6200200  2100072            821.0  \n",
      "...          ...      ...       ...      ...              ...  \n",
      "788184  01:00:00  REGULAR      5554      301              0.0  \n",
      "788185  05:00:00  REGULAR      5554      301              0.0  \n",
      "788186  09:00:00  REGULAR      5554      301              0.0  \n",
      "788187  13:00:00  REGULAR      5554      301              0.0  \n",
      "788188  17:00:00  REGULAR      5554      301              0.0  \n",
      "788189  21:00:00  REGULAR      5554      301              0.0  \n",
      "788190  01:00:00  REGULAR      5554      301              0.0  \n",
      "788191  05:00:00  REGULAR      5554      301              0.0  \n",
      "788192  09:00:00  REGULAR      5554      301              0.0  \n",
      "788193  13:00:00  REGULAR      5554      301              0.0  \n",
      "788194  17:00:00  REGULAR      5554      301              0.0  \n",
      "788195  21:00:00  REGULAR      5554      301              0.0  \n",
      "788196  01:00:00  REGULAR      5554      301              0.0  \n",
      "788197  05:00:00  REGULAR      5554      301              0.0  \n",
      "788198  09:00:00  REGULAR      5554      301              0.0  \n",
      "788199  13:00:00  REGULAR      5554      301              0.0  \n",
      "788200  17:00:00  REGULAR      5554      301              0.0  \n",
      "788201  21:00:00  REGULAR      5554      301              0.0  \n",
      "788202  01:00:00  REGULAR      5554      301              0.0  \n",
      "788203  05:00:00  REGULAR      5554      301              0.0  \n",
      "788204  09:00:00  REGULAR      5554      301              0.0  \n",
      "788205  13:00:00  REGULAR      5554      301              0.0  \n",
      "788206  17:00:00  REGULAR      5554      301              0.0  \n",
      "788207  21:00:00  REGULAR      5554      301              0.0  \n",
      "788208  01:00:00  REGULAR      5554      301              0.0  \n",
      "788209  05:00:00  REGULAR      5554      301              0.0  \n",
      "788210  09:00:00  REGULAR      5554      301              0.0  \n",
      "788211  13:00:00  REGULAR      5554      301              0.0  \n",
      "788212  17:00:00  REGULAR      5554      301              0.0  \n",
      "788213  21:00:00  REGULAR      5554      301              0.0  \n",
      "\n",
      "[788214 rows x 12 columns]\n"
     ]
    }
   ],
   "source": [
    "get_hourly_entries(df)\n",
    "print(df)"
   ]
  },
  {
   "cell_type": "markdown",
   "metadata": {},
   "source": [
    "### *Exercicio 1.5*\n",
    "\n",
    "Faça o mesmo do exercicio anterior mas agora considerando as saidas, coluna EXITSn.\n",
    "Para isso crie uma coluna chamada de EXITSn_hourly e insira a diferença entre a coluna EXITSn da linha atual versus a linha anterior. Se tiver algum NaN, preencha/substitua por 0.\n",
    "\n"
   ]
  },
  {
   "cell_type": "code",
   "execution_count": 111,
   "metadata": {
    "collapsed": true
   },
   "outputs": [],
   "source": [
    "import pandas as pd\n",
    "\n",
    "def get_hourly_exits(df):\n",
    "    df['EXITSn_hourly'] = df.groupby(['SCP', 'C/A', 'UNIT'])['EXITSn'].transform(pd.Series.diff).fillna(0)\n",
    "    return df"
   ]
  },
  {
   "cell_type": "code",
   "execution_count": 112,
   "metadata": {},
   "outputs": [
    {
     "name": "stdout",
     "output_type": "stream",
     "text": [
      "          C/A  UNIT       SCP        STATION  LINENAME  DIVISION       DATEn  \\\n",
      "0        A002  R051  02-00-00          59 ST   NQR456W       BMT  05/27/2017   \n",
      "1        A002  R051  02-00-00          59 ST   NQR456W       BMT  05/27/2017   \n",
      "2        A002  R051  02-00-00          59 ST   NQR456W       BMT  05/27/2017   \n",
      "3        A002  R051  02-00-00          59 ST   NQR456W       BMT  05/27/2017   \n",
      "4        A002  R051  02-00-00          59 ST   NQR456W       BMT  05/27/2017   \n",
      "5        A002  R051  02-00-00          59 ST   NQR456W       BMT  05/27/2017   \n",
      "6        A002  R051  02-00-00          59 ST   NQR456W       BMT  05/28/2017   \n",
      "7        A002  R051  02-00-00          59 ST   NQR456W       BMT  05/28/2017   \n",
      "8        A002  R051  02-00-00          59 ST   NQR456W       BMT  05/28/2017   \n",
      "9        A002  R051  02-00-00          59 ST   NQR456W       BMT  05/28/2017   \n",
      "10       A002  R051  02-00-00          59 ST   NQR456W       BMT  05/28/2017   \n",
      "11       A002  R051  02-00-00          59 ST   NQR456W       BMT  05/28/2017   \n",
      "12       A002  R051  02-00-00          59 ST   NQR456W       BMT  05/29/2017   \n",
      "13       A002  R051  02-00-00          59 ST   NQR456W       BMT  05/29/2017   \n",
      "14       A002  R051  02-00-00          59 ST   NQR456W       BMT  05/29/2017   \n",
      "15       A002  R051  02-00-00          59 ST   NQR456W       BMT  05/29/2017   \n",
      "16       A002  R051  02-00-00          59 ST   NQR456W       BMT  05/29/2017   \n",
      "17       A002  R051  02-00-00          59 ST   NQR456W       BMT  05/29/2017   \n",
      "18       A002  R051  02-00-00          59 ST   NQR456W       BMT  05/30/2017   \n",
      "19       A002  R051  02-00-00          59 ST   NQR456W       BMT  05/30/2017   \n",
      "20       A002  R051  02-00-00          59 ST   NQR456W       BMT  05/30/2017   \n",
      "21       A002  R051  02-00-00          59 ST   NQR456W       BMT  05/30/2017   \n",
      "22       A002  R051  02-00-00          59 ST   NQR456W       BMT  05/30/2017   \n",
      "23       A002  R051  02-00-00          59 ST   NQR456W       BMT  05/30/2017   \n",
      "24       A002  R051  02-00-00          59 ST   NQR456W       BMT  05/31/2017   \n",
      "25       A002  R051  02-00-00          59 ST   NQR456W       BMT  05/31/2017   \n",
      "26       A002  R051  02-00-00          59 ST   NQR456W       BMT  05/31/2017   \n",
      "27       A002  R051  02-00-00          59 ST   NQR456W       BMT  05/31/2017   \n",
      "28       A002  R051  02-00-00          59 ST   NQR456W       BMT  05/31/2017   \n",
      "29       A002  R051  02-00-00          59 ST   NQR456W       BMT  05/31/2017   \n",
      "...       ...   ...       ...            ...       ...       ...         ...   \n",
      "788184  TRAM2  R469  00-05-01  RIT-ROOSEVELT         R       RIT  06/19/2017   \n",
      "788185  TRAM2  R469  00-05-01  RIT-ROOSEVELT         R       RIT  06/19/2017   \n",
      "788186  TRAM2  R469  00-05-01  RIT-ROOSEVELT         R       RIT  06/19/2017   \n",
      "788187  TRAM2  R469  00-05-01  RIT-ROOSEVELT         R       RIT  06/19/2017   \n",
      "788188  TRAM2  R469  00-05-01  RIT-ROOSEVELT         R       RIT  06/19/2017   \n",
      "788189  TRAM2  R469  00-05-01  RIT-ROOSEVELT         R       RIT  06/19/2017   \n",
      "788190  TRAM2  R469  00-05-01  RIT-ROOSEVELT         R       RIT  06/20/2017   \n",
      "788191  TRAM2  R469  00-05-01  RIT-ROOSEVELT         R       RIT  06/20/2017   \n",
      "788192  TRAM2  R469  00-05-01  RIT-ROOSEVELT         R       RIT  06/20/2017   \n",
      "788193  TRAM2  R469  00-05-01  RIT-ROOSEVELT         R       RIT  06/20/2017   \n",
      "788194  TRAM2  R469  00-05-01  RIT-ROOSEVELT         R       RIT  06/20/2017   \n",
      "788195  TRAM2  R469  00-05-01  RIT-ROOSEVELT         R       RIT  06/20/2017   \n",
      "788196  TRAM2  R469  00-05-01  RIT-ROOSEVELT         R       RIT  06/21/2017   \n",
      "788197  TRAM2  R469  00-05-01  RIT-ROOSEVELT         R       RIT  06/21/2017   \n",
      "788198  TRAM2  R469  00-05-01  RIT-ROOSEVELT         R       RIT  06/21/2017   \n",
      "788199  TRAM2  R469  00-05-01  RIT-ROOSEVELT         R       RIT  06/21/2017   \n",
      "788200  TRAM2  R469  00-05-01  RIT-ROOSEVELT         R       RIT  06/21/2017   \n",
      "788201  TRAM2  R469  00-05-01  RIT-ROOSEVELT         R       RIT  06/21/2017   \n",
      "788202  TRAM2  R469  00-05-01  RIT-ROOSEVELT         R       RIT  06/22/2017   \n",
      "788203  TRAM2  R469  00-05-01  RIT-ROOSEVELT         R       RIT  06/22/2017   \n",
      "788204  TRAM2  R469  00-05-01  RIT-ROOSEVELT         R       RIT  06/22/2017   \n",
      "788205  TRAM2  R469  00-05-01  RIT-ROOSEVELT         R       RIT  06/22/2017   \n",
      "788206  TRAM2  R469  00-05-01  RIT-ROOSEVELT         R       RIT  06/22/2017   \n",
      "788207  TRAM2  R469  00-05-01  RIT-ROOSEVELT         R       RIT  06/22/2017   \n",
      "788208  TRAM2  R469  00-05-01  RIT-ROOSEVELT         R       RIT  06/23/2017   \n",
      "788209  TRAM2  R469  00-05-01  RIT-ROOSEVELT         R       RIT  06/23/2017   \n",
      "788210  TRAM2  R469  00-05-01  RIT-ROOSEVELT         R       RIT  06/23/2017   \n",
      "788211  TRAM2  R469  00-05-01  RIT-ROOSEVELT         R       RIT  06/23/2017   \n",
      "788212  TRAM2  R469  00-05-01  RIT-ROOSEVELT         R       RIT  06/23/2017   \n",
      "788213  TRAM2  R469  00-05-01  RIT-ROOSEVELT         R       RIT  06/23/2017   \n",
      "\n",
      "           TIMEn    DESCn  ENTRIESn   EXITSn  ENTRIESn_hourly  EXITSn_hourly  \n",
      "0       00:00:00  REGULAR   6195217  2098317              1.0            0.0  \n",
      "1       04:00:00  REGULAR   6195240  2098318             23.0            1.0  \n",
      "2       08:00:00  REGULAR   6195256  2098347             16.0           29.0  \n",
      "3       12:00:00  REGULAR   6195346  2098432             90.0           85.0  \n",
      "4       16:00:00  REGULAR   6195518  2098491            172.0           59.0  \n",
      "5       20:00:00  REGULAR   6195765  2098537            247.0           46.0  \n",
      "6       00:00:00  REGULAR   6195898  2098559            133.0           22.0  \n",
      "7       04:00:00  REGULAR   6195914  2098562             16.0            3.0  \n",
      "8       08:00:00  REGULAR   6195930  2098581             16.0           19.0  \n",
      "9       12:00:00  REGULAR   6196024  2098646             94.0           65.0  \n",
      "10      16:00:00  REGULAR   6196186  2098685            162.0           39.0  \n",
      "11      20:00:00  REGULAR   6196446  2098723            260.0           38.0  \n",
      "12      00:00:00  REGULAR   6196569  2098745            123.0           22.0  \n",
      "13      04:00:00  REGULAR   6196587  2098747             18.0            2.0  \n",
      "14      08:00:00  REGULAR   6196597  2098766             10.0           19.0  \n",
      "15      12:00:00  REGULAR   6196666  2098845             69.0           79.0  \n",
      "16      16:00:00  REGULAR   6196853  2098891            187.0           46.0  \n",
      "17      20:00:00  REGULAR   6197107  2098922            254.0           31.0  \n",
      "18      00:00:00  REGULAR   6197230  2098946            123.0           24.0  \n",
      "19      04:00:00  REGULAR   6197238  2098949              8.0            3.0  \n",
      "20      08:00:00  REGULAR   6197288  2099066             50.0          117.0  \n",
      "21      12:00:00  REGULAR   6197470  2099345            182.0          279.0  \n",
      "22      16:00:00  REGULAR   6197790  2099442            320.0           97.0  \n",
      "23      20:00:00  REGULAR   6198624  2099521            834.0           79.0  \n",
      "24      00:00:00  REGULAR   6198819  2099552            195.0           31.0  \n",
      "25      04:00:00  REGULAR   6198834  2099555             15.0            3.0  \n",
      "26      08:00:00  REGULAR   6198880  2099671             46.0          116.0  \n",
      "27      12:00:00  REGULAR   6199053  2099950            173.0          279.0  \n",
      "28      16:00:00  REGULAR   6199379  2100021            326.0           71.0  \n",
      "29      20:00:00  REGULAR   6200200  2100072            821.0           51.0  \n",
      "...          ...      ...       ...      ...              ...            ...  \n",
      "788184  01:00:00  REGULAR      5554      301              0.0            0.0  \n",
      "788185  05:00:00  REGULAR      5554      301              0.0            0.0  \n",
      "788186  09:00:00  REGULAR      5554      301              0.0            0.0  \n",
      "788187  13:00:00  REGULAR      5554      301              0.0            0.0  \n",
      "788188  17:00:00  REGULAR      5554      301              0.0            0.0  \n",
      "788189  21:00:00  REGULAR      5554      301              0.0            0.0  \n",
      "788190  01:00:00  REGULAR      5554      301              0.0            0.0  \n",
      "788191  05:00:00  REGULAR      5554      301              0.0            0.0  \n",
      "788192  09:00:00  REGULAR      5554      301              0.0            0.0  \n",
      "788193  13:00:00  REGULAR      5554      301              0.0            0.0  \n",
      "788194  17:00:00  REGULAR      5554      301              0.0            0.0  \n",
      "788195  21:00:00  REGULAR      5554      301              0.0            0.0  \n",
      "788196  01:00:00  REGULAR      5554      301              0.0            0.0  \n",
      "788197  05:00:00  REGULAR      5554      301              0.0            0.0  \n",
      "788198  09:00:00  REGULAR      5554      301              0.0            0.0  \n",
      "788199  13:00:00  REGULAR      5554      301              0.0            0.0  \n",
      "788200  17:00:00  REGULAR      5554      301              0.0            0.0  \n",
      "788201  21:00:00  REGULAR      5554      301              0.0            0.0  \n",
      "788202  01:00:00  REGULAR      5554      301              0.0            0.0  \n",
      "788203  05:00:00  REGULAR      5554      301              0.0            0.0  \n",
      "788204  09:00:00  REGULAR      5554      301              0.0            0.0  \n",
      "788205  13:00:00  REGULAR      5554      301              0.0            0.0  \n",
      "788206  17:00:00  REGULAR      5554      301              0.0            0.0  \n",
      "788207  21:00:00  REGULAR      5554      301              0.0            0.0  \n",
      "788208  01:00:00  REGULAR      5554      301              0.0            0.0  \n",
      "788209  05:00:00  REGULAR      5554      301              0.0            0.0  \n",
      "788210  09:00:00  REGULAR      5554      301              0.0            0.0  \n",
      "788211  13:00:00  REGULAR      5554      301              0.0            0.0  \n",
      "788212  17:00:00  REGULAR      5554      301              0.0            0.0  \n",
      "788213  21:00:00  REGULAR      5554      301              0.0            0.0  \n",
      "\n",
      "[788214 rows x 13 columns]\n"
     ]
    }
   ],
   "source": [
    "get_hourly_exits(df)\n",
    "print(df)"
   ]
  },
  {
   "cell_type": "markdown",
   "metadata": {},
   "source": [
    "### *Exercicio 1.6*\n",
    "\n",
    "Dado uma variável de entrada que representa o tempo no formato de:\n",
    "     \"00:00:00\" (hora: minutos: segundos)\n",
    "    \n",
    "Escreva uma função para extrair a parte da hora do tempo variável de entrada\n",
    "E devolva-o como um número inteiro. Por exemplo:\n",
    "         \n",
    "         1) se a hora for 00, seu código deve retornar 0\n",
    "         2) se a hora for 01, seu código deve retornar 1\n",
    "         3) se a hora for 21, seu código deve retornar 21\n",
    "        \n",
    "Por favor, devolva a hora como um número inteiro.\n"
   ]
  },
  {
   "cell_type": "code",
   "execution_count": 120,
   "metadata": {
    "collapsed": true
   },
   "outputs": [],
   "source": [
    "def time_to_hour(time):\n",
    "    hour = int(time[0:2])\n",
    "    return hour"
   ]
  },
  {
   "cell_type": "code",
   "execution_count": 122,
   "metadata": {
    "scrolled": true
   },
   "outputs": [
    {
     "name": "stdout",
     "output_type": "stream",
     "text": [
      "2\n"
     ]
    }
   ],
   "source": [
    "print(time_to_hour(\"02:23:12\"))"
   ]
  },
  {
   "cell_type": "markdown",
   "metadata": {},
   "source": [
    "## Exercicio 2 - Análise dos dados\n",
    "\n",
    "### *Exercicio 2.1*\n",
    "\n",
    "Para verificar a relação entre o movimento do metrô e o clima, precisaremos complementar os dados do arquivo já baixado com os dados do clima.\n",
    "Nós complementamos para você este arquivo com os dados de clima de Nova Iorque  e disponibilizamos na área de materiais do projeto. Você pode acessa-lo pelo link: https://s3.amazonaws.com/content.udacity-data.com/courses/ud359/turnstile_data_master_with_weather.csv\n",
    "\n",
    "Agora que temos nossos dados em um arquivo csv, escreva um código python que leia este arquivo e salve-o em um data frame do pandas. \n",
    "\n",
    "Dica: \n",
    "\n",
    "Utilize o comando abaixo para ler o arquivo:\n",
    "\n",
    "```python\n",
    "pd.read_csv('output_list.txt', sep=\",\")\n",
    "```\n",
    "\n"
   ]
  },
  {
   "cell_type": "code",
   "execution_count": null,
   "metadata": {
    "collapsed": true
   },
   "outputs": [],
   "source": [
    "import pandas as pd\n",
    "\n",
    "filename = \"turnstile_data_master_with_weather.csv\"\n",
    "\n",
    "df = pd.read_csv(filename, sep=\",\")\n",
    "df.rain = df.rain.astype(int)"
   ]
  },
  {
   "cell_type": "markdown",
   "metadata": {},
   "source": [
    "### *Exercicio 2.2*\n",
    "\n",
    "Agora crie uma função que calcule a quantidade de dias chuvosos, para isso retorne a contagem do numero de dias onde a coluna *\"rain\"* é igual a 1.\n",
    "\n",
    "Dica: Você também pode achar que a interpretação de números como números inteiros ou float pode não\n",
    "     funcionar inicialmente. Para contornar esta questão, pode ser útil converter\n",
    "     esses números para números inteiros. Isso pode ser feito escrevendo cast (coluna como inteiro).\n",
    "     Então, por exemplo, se queríamos lançar a coluna maxtempi como um número inteiro, nós devemos\n",
    "     escrever algo como cast (maxtempi as integer) = 76, em oposição a simplesmente\n",
    "     onde maxtempi = 76."
   ]
  },
  {
   "cell_type": "code",
   "execution_count": 2,
   "metadata": {
    "collapsed": true
   },
   "outputs": [],
   "source": [
    "def num_rainy_days(df):\n",
    "    print(df['rain'].value_counts())\n",
    "    return sum(df['rain'])"
   ]
  },
  {
   "cell_type": "code",
   "execution_count": 3,
   "metadata": {},
   "outputs": [
    {
     "name": "stdout",
     "output_type": "stream",
     "text": [
      "0    87847\n",
      "1    44104\n",
      "Name: rain, dtype: int64\n",
      "Number of rainy days: 44104\n"
     ]
    }
   ],
   "source": [
    "print(\"Number of rainy days: \" + str(num_rainy_days(df)))"
   ]
  },
  {
   "cell_type": "markdown",
   "metadata": {},
   "source": [
    "### *Exercicio 2.3*\n",
    "\n",
    "Calcule se estava nebuloso ou não (0 ou 1) e a temperatura máxima para fog (isto é, a temperatura máxima \n",
    "     para dias nebulosos)."
   ]
  },
  {
   "cell_type": "code",
   "execution_count": 23,
   "metadata": {},
   "outputs": [],
   "source": [
    "def max_temp_aggregate_by_fog(df):\n",
    "    return df.loc[df['fog'] == 1]['maxtempi'].max()"
   ]
  },
  {
   "cell_type": "code",
   "execution_count": 24,
   "metadata": {},
   "outputs": [
    {
     "name": "stdout",
     "output_type": "stream",
     "text": [
      "81.0\n"
     ]
    }
   ],
   "source": [
    "print(max_temp_aggregate_by_fog(df))"
   ]
  },
  {
   "cell_type": "markdown",
   "metadata": {},
   "source": [
    "### *Exercicio 2.4\n",
    "\n",
    "Calcule agora a média de 'meantempi' nos dias que são sábado ou domingo (finais de semana):"
   ]
  },
  {
   "cell_type": "code",
   "execution_count": 26,
   "metadata": {
    "collapsed": true
   },
   "outputs": [],
   "source": [
    "import datetime"
   ]
  },
  {
   "cell_type": "code",
   "execution_count": null,
   "metadata": {
    "collapsed": true
   },
   "outputs": [],
   "source": [
    "def avg_weekend_temperature(filename):\n",
    "    mean_temp_weekends = \n",
    "    \n",
    "    return mean_temp_weekends"
   ]
  },
  {
   "cell_type": "markdown",
   "metadata": {},
   "source": [
    "### *Exercicio 2.5\n",
    "\n",
    "Calcule a média da temperatura mínima 'mintempi' nos dias chuvosos onde da temperatura mínima foi maior que do 55 graus:"
   ]
  },
  {
   "cell_type": "code",
   "execution_count": null,
   "metadata": {
    "collapsed": true
   },
   "outputs": [],
   "source": [
    "def avg_min_temperature(filename):\n",
    "\n",
    "    avg_min_temp_rainy = \n",
    "    \n",
    "    return avg_min_temp_rainy"
   ]
  },
  {
   "cell_type": "markdown",
   "metadata": {},
   "source": [
    "### *Exercicio 2.6\n",
    "\n",
    "Antes de realizar qualquer análise, pode ser útil olhar para os dados que esperamos analisar. Mais especificamente, vamos examinR as entradas por hora em nossos dados do metrô de Nova York para determinar a distribuição dos dados. Estes dados são armazenados na coluna ['ENTRIESn_hourly'].\n",
    "    \n",
    "Trace dois histogramas nos mesmos eixos para mostrar as entradas quando esta chovendo vs quando não está chovendo. \n",
    "Abaixo está um exemplo sobre como traçar histogramas com pandas e matplotlib:\n",
    "     \n",
    "```python\n",
    "Turnstile_weather ['column_to_graph']. Hist ()\n",
    "```   \n",
    "    "
   ]
  },
  {
   "cell_type": "code",
   "execution_count": null,
   "metadata": {
    "collapsed": true
   },
   "outputs": [],
   "source": [
    "import numpy as np\n",
    "import pandas\n",
    "import matplotlib.pyplot as plt\n",
    "\n",
    "def entries_histogram(turnstile_weather):\n",
    "    \n",
    "    \n",
    "    \n",
    "    plt.figure()\n",
    "    turnstile_weather['...'] # your code here to plot a historgram for hourly entries when it is raining\n",
    "    turnstile_weather['...'] # your code here to plot a histogram for hourly entries when it is not raining\n",
    "    return plt\n"
   ]
  },
  {
   "cell_type": "markdown",
   "metadata": {},
   "source": [
    "### *Exercicio 2.7\n",
    "\n",
    "Os dados que acabou de plotar que tipo de ditribuição? Existe diferença na distribuição entre dias chuvosos e não chuvosos?"
   ]
  },
  {
   "cell_type": "markdown",
   "metadata": {},
   "source": [
    "** Resposta **: Substitua este texto pela sua resposta!"
   ]
  },
  {
   "cell_type": "markdown",
   "metadata": {},
   "source": [
    "### *Exercicio 2.8\n",
    "\n",
    "Construa uma função que que retorne:\n",
    "\n",
    "1. A média das entradas com chuva\n",
    "2. A média das entradas sem chuva\n",
    "\n",
    "\n"
   ]
  },
  {
   "cell_type": "code",
   "execution_count": null,
   "metadata": {
    "collapsed": true
   },
   "outputs": [],
   "source": [
    "import numpy as np\n",
    "\n",
    "import pandas\n",
    "\n",
    "def means(turnstile_weather):\n",
    "    \n",
    "    \n",
    "    ### YOUR CODE HERE ###\n",
    "    \n",
    "    return with_rain_mean, without_rain_mean, p # leave this line for the grader"
   ]
  },
  {
   "cell_type": "markdown",
   "metadata": {},
   "source": [
    "Responda as perguntas abaixo de acordo com a saida das suas funções:\n",
    "\n",
    "1. Qual a média das entradas com chuva?\n",
    "2. Qual a média das entradas sem chuva?\n"
   ]
  },
  {
   "cell_type": "markdown",
   "metadata": {},
   "source": [
    "** Resposta **: Substitua este texto pela sua resposta!"
   ]
  },
  {
   "cell_type": "markdown",
   "metadata": {},
   "source": [
    "## Exercicio 3 - Map Reduce\n",
    "\n",
    "### *Exercicio 3.1*\n",
    "\n",
    "A entrada para esse exercício e o mesmo arquivo da seção anterior (Exercicio 2). Você pode baixar o arquivo neste link:\n",
    "\n",
    " https://s3.amazonaws.com/content.udacity-data.com/courses/ud359/turnstile_data_master_with_weather.csv\n",
    "\n",
    "Varmos criar um mapeador agora. Para cada linha de entrada, a saída do mapeador deve IMPRIMIR (não retornar) a UNIT como uma chave e o número de ENTRIESn_hourly como o valor. Separe a chave e o valor por uma guia. Por exemplo: 'R002 \\ t105105.0'\n",
    "\n",
    "Exporte seu mapeador em um arquivo chamado mapper_result.txt e envie esse arquivo juntamente com a sua submissão. O código para exportar seu mapeador já está escrito no código abaixo.\n",
    "\n",
    "\n"
   ]
  },
  {
   "cell_type": "code",
   "execution_count": null,
   "metadata": {
    "collapsed": true
   },
   "outputs": [],
   "source": [
    "import sys\n",
    "\n",
    "def mapper():\n",
    "    \n",
    "\n",
    "    for line in sys.stdin:\n",
    "        # your code here\n",
    "\n",
    "\n",
    "mapper()\n",
    "sys.stdin = open('turnstile_data_master_with_weather.csv')\n",
    "sys.stdout = open('mapper_result.txt', 'w')"
   ]
  },
  {
   "cell_type": "markdown",
   "metadata": {},
   "source": [
    "### *Exercicio 3.2*\n",
    "\n",
    "Agora crie o redutor. Dado o resultado do mapeador do exercicio anterior, o redutor deve imprimir(Não retornar) uma linha por UNIT, juntamente com o número total de ENTRIESn_hourly.Ao longo de maio (que é a duração dos nossos dados), separados por uma guia. Um exemplo de linha de saída do redutor pode ser assim: 'R001 \\ t500625.0'\n",
    "\n",
    "Você pode assumir que a entrada para o redutor está ordenada de tal forma que todas as linhas correspondentes a uma unidade particular são agrupados. No entanto a saida do redutor terá repetição pois existem lojas que aparecem em locais diferentes dos arquivos.\n",
    "\n",
    "Exporte seu redutor em um arquivo chamado reducer_result.txt e envie esse arquivo juntamente com a sua submissão."
   ]
  },
  {
   "cell_type": "code",
   "execution_count": null,
   "metadata": {
    "collapsed": true
   },
   "outputs": [],
   "source": [
    "def reducer():\n",
    "    \n",
    "\n",
    "    for line in sys.stdin:\n",
    "        # your code here\n",
    "\n",
    "        \n",
    "reducer()\n"
   ]
  }
 ],
 "metadata": {
  "celltoolbar": "Raw Cell Format",
  "kernelspec": {
   "display_name": "Python 3",
   "language": "python",
   "name": "python3"
  },
  "language_info": {
   "codemirror_mode": {
    "name": "ipython",
    "version": 3
   },
   "file_extension": ".py",
   "mimetype": "text/x-python",
   "name": "python",
   "nbconvert_exporter": "python",
   "pygments_lexer": "ipython3",
   "version": "3.6.3"
  }
 },
 "nbformat": 4,
 "nbformat_minor": 2
}
